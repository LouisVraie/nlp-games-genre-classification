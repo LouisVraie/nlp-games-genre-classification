{
 "cells": [
  {
   "cell_type": "code",
   "execution_count": 327,
   "metadata": {},
   "outputs": [],
   "source": [
    "import pandas as pd\n",
    "import numpy as np\n",
    "import matplotlib.pyplot as plt\n",
    "import seaborn as sns\n",
    "import os\n",
    "from sklearn.preprocessing import StandardScaler\n",
    "from sklearn.feature_extraction.text import TfidfVectorizer\n",
    "from sklearn.model_selection import train_test_split\n",
    "from sklearn.naive_bayes import MultinomialNB\n",
    "from sklearn.linear_model import LogisticRegression\n",
    "from sklearn.ensemble import RandomForestClassifier\n",
    "from sklearn.svm import SVC\n",
    "# Use evaluation metrics are accuracy_score, precision, recall, F1-score\n",
    "from sklearn.metrics import accuracy_score, precision_score, recall_score, f1_score\n",
    "from sklearn.metrics import confusion_matrix, classification_report\n",
    "# Remove the UndefinedMetricWarning warning\n",
    "import warnings\n",
    "from sklearn.exceptions import UndefinedMetricWarning\n",
    "warnings.filterwarnings(\"ignore\", category=UndefinedMetricWarning)\n",
    "\n",
    "DATA_FOLDER = 'data'\n",
    "\n",
    "NAME = 'name'\n",
    "GENRES = 'genres'\n",
    "DESCRIPTION = 'description_raw'\n",
    "DESCRIPTION_LEMMATIZED = 'description_lemmatized'\n",
    "DESCRIPTION_STEMMED = 'description_stemmed'\n",
    "DESCRIPTION_NO_LEMMA_STEM = 'description_no_lemma_stem'\n",
    "\n",
    "TEST_SIZE = 0.2\n",
    "RANDOM_STATE = 42"
   ]
  },
  {
   "cell_type": "code",
   "execution_count": 328,
   "metadata": {},
   "outputs": [],
   "source": [
    "# Load the data\n",
    "df = pd.read_csv(os.path.join(DATA_FOLDER, 'steam_games_reduced_2.csv'))"
   ]
  },
  {
   "cell_type": "code",
   "execution_count": 329,
   "metadata": {},
   "outputs": [
    {
     "name": "stdout",
     "output_type": "stream",
     "text": [
      "Training set shape X: (2391,), y: (2391,)\n",
      "Testing set shape X: (598,), y: (598,)\n",
      "Training set shape X: (2391,), y: (2391,)\n",
      "Testing set shape X: (598,), y: (598,)\n",
      "Training set shape X: (2391,), y: (2391,)\n",
      "Testing set shape X: (598,), y: (598,)\n",
      "Training set shape X: (2391,), y: (2391,)\n",
      "Testing set shape X: (598,), y: (598,)\n"
     ]
    }
   ],
   "source": [
    "# Split the data into features and target\n",
    "X1_raw = df[DESCRIPTION]\n",
    "X1_lemma = df[DESCRIPTION_LEMMATIZED]\n",
    "X1_stem = df[DESCRIPTION_STEMMED]\n",
    "X1_no_lemma_stem = df[DESCRIPTION_NO_LEMMA_STEM]\n",
    "y = df[GENRES]\n",
    "\n",
    "def split_data(X, y, test_size=TEST_SIZE, random_state=RANDOM_STATE):\n",
    "    # Split the data into training and testing sets\n",
    "    X_train, X_test, y_train, y_test = train_test_split(X, y, test_size=test_size, random_state=random_state)\n",
    "    # Print the shape of the training and testing sets\n",
    "    print(f\"Training set shape X: {X_train.shape}, y: {y_train.shape}\")\n",
    "    print(f\"Testing set shape X: {X_test.shape}, y: {y_test.shape}\")\n",
    "    return X_train, X_test, y_train, y_test\n",
    "\n",
    "# Split the data into training and testing sets\n",
    "X1_raw_train, X1_raw_test, y_train, y_test = split_data(X1_raw, y)\n",
    "X1_lemma_train, X1_lemma_test, _, _ = split_data(X1_lemma, y)\n",
    "X1_stem_train, X1_stem_test, _, _ = split_data(X1_stem, y)\n",
    "X1_no_lemma_stem_train, X1_no_lemma_stem_test, _, _ = split_data(X1_no_lemma_stem, y)"
   ]
  },
  {
   "cell_type": "code",
   "execution_count": 330,
   "metadata": {},
   "outputs": [],
   "source": [
    "def fit_and_transform_vectorizer(vectorizer, X_train, X_test):\n",
    "    # Fit and transform the vectorizer on the training data\n",
    "    X_train_vectorized = vectorizer.fit_transform(X_train)\n",
    "    # Transform the testing data\n",
    "    X_test_vectorized = vectorizer.transform(X_test)\n",
    "    return (X_train_vectorized, X_test_vectorized)\n",
    "\n",
    "# Define the tfidf vectorizer\n",
    "tfidf_vectorizer = TfidfVectorizer(ngram_range=(1,1))\n",
    "tfidf_vectorizer_bigram = TfidfVectorizer(ngram_range=(1,2))\n",
    "\n",
    "tfidf_vectors = {\n",
    "    'Raw': fit_and_transform_vectorizer(tfidf_vectorizer, X1_raw_train, X1_raw_test),\n",
    "    'Lemmatized': fit_and_transform_vectorizer(tfidf_vectorizer, X1_lemma_train, X1_lemma_test),\n",
    "    'Stemmed': fit_and_transform_vectorizer(tfidf_vectorizer, X1_stem_train, X1_stem_test),\n",
    "    'No lemma no stem': fit_and_transform_vectorizer(tfidf_vectorizer, X1_no_lemma_stem_train, X1_no_lemma_stem_test),\n",
    "    'Raw w/ bigrams': fit_and_transform_vectorizer(tfidf_vectorizer_bigram, X1_raw_train, X1_raw_test),\n",
    "    'Lemmatized w/ bigrams': fit_and_transform_vectorizer(tfidf_vectorizer_bigram, X1_lemma_train, X1_lemma_test),\n",
    "    'Stemmed w/ bigrams': fit_and_transform_vectorizer(tfidf_vectorizer_bigram, X1_stem_train, X1_stem_test),\n",
    "    'No lemma no stem w/ bigrams': fit_and_transform_vectorizer(tfidf_vectorizer_bigram, X1_no_lemma_stem_train, X1_no_lemma_stem_test)\n",
    "}"
   ]
  },
  {
   "cell_type": "code",
   "execution_count": 331,
   "metadata": {},
   "outputs": [],
   "source": [
    "def train_and_predict(model, vectorizer_name: str, X_train, y_train, X_test, y_test):\n",
    "    # Train the model\n",
    "    trained_model = model.fit(X_train, y_train)\n",
    "    \n",
    "    # Predict the output\n",
    "    y_pred = trained_model.predict(X_test)\n",
    "    \n",
    "    print(f\"{model.__class__.__name__} with {vectorizer_name} : Accuracy {accuracy_score(y_test, y_pred):.4f}\")\n",
    "    \n",
    "    # Return the trained model, vectorizer name and the predicted values\n",
    "    return (trained_model, vectorizer_name, y_pred)\n",
    "\n",
    "def build_predict_dict(model, tfidf_vectors):\n",
    "    # Define the results dictionary\n",
    "    results = {}\n",
    "    full_name = \"\"\n",
    "        \n",
    "    for vectorizer_name, (X_train, X_test) in tfidf_vectors.items():\n",
    "        full_name = \"TfIdf / \"+vectorizer_name\n",
    "        results[(model, full_name)] = train_and_predict(model, full_name, X_train, y_train, X_test, y_test)\n",
    "        \n",
    "    return results"
   ]
  },
  {
   "cell_type": "code",
   "execution_count": 332,
   "metadata": {},
   "outputs": [],
   "source": [
    "def evaluate_model(y_test, y_pred):\n",
    "    # Calculate the evaluation metrics\n",
    "    accuracy_value = accuracy_score(y_test, y_pred)\n",
    "    precision_value = precision_score(y_test, y_pred, average='macro')\n",
    "    recall_value = recall_score(y_test, y_pred, average='macro')\n",
    "    f1_score_value = f1_score(y_test, y_pred, average='macro')\n",
    "    \n",
    "    return {\n",
    "        'accuracy': accuracy_value,\n",
    "        'precision': precision_value,\n",
    "        'recall': recall_value,\n",
    "        'f1_score': f1_score_value,\n",
    "    }\n",
    "\n",
    "# Evaluate the models\n",
    "def evaluate_models(results, y_test):\n",
    "    evaluation_results = {}\n",
    "    \n",
    "    # Print the model name\n",
    "    print(f\"Model : {list(results.keys())[0][0].__class__.__name__}\")\n",
    "    \n",
    "    # Print the header\n",
    "    print(\"=\"*80)\n",
    "    print(f\"{'Vectorizer/Data form':<38} {'Accuracy':<9} {'Precision':<9} {'Recall':<9} {'F1 Score':<9}\")\n",
    "    print(\"=\"*80)\n",
    "    \n",
    "    for (model, vectorizer_name), (trained_model, vectorizer_name, y_pred) in results.items():\n",
    "        evaluation_metrics = evaluate_model(y_test, y_pred)\n",
    "        evaluation_results[(model, vectorizer_name)] = evaluation_metrics\n",
    "        \n",
    "        # Print the evaluation results\n",
    "        print(f\"{vectorizer_name:<38} \"\n",
    "        f\"{evaluation_metrics['accuracy']:<9.4f} \"\n",
    "        f\"{evaluation_metrics['precision']:<9.4f} \"\n",
    "        f\"{evaluation_metrics['recall']:<9.4f} \"\n",
    "        f\"{evaluation_metrics['f1_score']:<9.4f}\")\n",
    "        \n",
    "    return evaluation_results"
   ]
  },
  {
   "cell_type": "code",
   "execution_count": 333,
   "metadata": {},
   "outputs": [
    {
     "name": "stdout",
     "output_type": "stream",
     "text": [
      "MultinomialNB with TfIdf / Raw : Accuracy 0.7174\n",
      "MultinomialNB with TfIdf / Lemmatized : Accuracy 0.7040\n",
      "MultinomialNB with TfIdf / Stemmed : Accuracy 0.7090\n",
      "MultinomialNB with TfIdf / No lemma no stem : Accuracy 0.7057\n",
      "MultinomialNB with TfIdf / Raw w/ bigrams : Accuracy 0.7057\n",
      "MultinomialNB with TfIdf / Lemmatized w/ bigrams : Accuracy 0.6957\n",
      "MultinomialNB with TfIdf / Stemmed w/ bigrams : Accuracy 0.7074\n",
      "MultinomialNB with TfIdf / No lemma no stem w/ bigrams : Accuracy 0.7040\n"
     ]
    }
   ],
   "source": [
    "# Train a multinomial naive bayes classifier\n",
    "multinomial_nb = MultinomialNB()\n",
    "multinomial_nb_results = build_predict_dict(multinomial_nb, tfidf_vectors)"
   ]
  },
  {
   "cell_type": "code",
   "execution_count": 334,
   "metadata": {},
   "outputs": [
    {
     "name": "stdout",
     "output_type": "stream",
     "text": [
      "LogisticRegression with TfIdf / Raw : Accuracy 0.7425\n",
      "LogisticRegression with TfIdf / Lemmatized : Accuracy 0.7358\n",
      "LogisticRegression with TfIdf / Stemmed : Accuracy 0.7341\n",
      "LogisticRegression with TfIdf / No lemma no stem : Accuracy 0.7341\n",
      "LogisticRegression with TfIdf / Raw w/ bigrams : Accuracy 0.7475\n",
      "LogisticRegression with TfIdf / Lemmatized w/ bigrams : Accuracy 0.7425\n",
      "LogisticRegression with TfIdf / Stemmed w/ bigrams : Accuracy 0.7408\n",
      "LogisticRegression with TfIdf / No lemma no stem w/ bigrams : Accuracy 0.7375\n"
     ]
    }
   ],
   "source": [
    "# Train a logistic regression model\n",
    "logistic_regression = LogisticRegression(max_iter=1000, n_jobs=-1)\n",
    "logistic_regression_results = build_predict_dict(logistic_regression, tfidf_vectors)"
   ]
  },
  {
   "cell_type": "code",
   "execution_count": 335,
   "metadata": {},
   "outputs": [
    {
     "name": "stdout",
     "output_type": "stream",
     "text": [
      "RandomForestClassifier with TfIdf / Raw : Accuracy 0.6973\n",
      "RandomForestClassifier with TfIdf / Lemmatized : Accuracy 0.6672\n",
      "RandomForestClassifier with TfIdf / Stemmed : Accuracy 0.6856\n",
      "RandomForestClassifier with TfIdf / No lemma no stem : Accuracy 0.6873\n",
      "RandomForestClassifier with TfIdf / Raw w/ bigrams : Accuracy 0.6973\n",
      "RandomForestClassifier with TfIdf / Lemmatized w/ bigrams : Accuracy 0.6555\n",
      "RandomForestClassifier with TfIdf / Stemmed w/ bigrams : Accuracy 0.6923\n",
      "RandomForestClassifier with TfIdf / No lemma no stem w/ bigrams : Accuracy 0.6739\n"
     ]
    }
   ],
   "source": [
    "# Train a random forest classifier\n",
    "random_forest = RandomForestClassifier(n_jobs=-1)\n",
    "random_forest_results = build_predict_dict(random_forest, tfidf_vectors)"
   ]
  },
  {
   "cell_type": "code",
   "execution_count": 336,
   "metadata": {},
   "outputs": [
    {
     "name": "stdout",
     "output_type": "stream",
     "text": [
      "SVC with TfIdf / Raw : Accuracy 0.7324\n",
      "SVC with TfIdf / Lemmatized : Accuracy 0.7258\n",
      "SVC with TfIdf / Stemmed : Accuracy 0.7258\n",
      "SVC with TfIdf / No lemma no stem : Accuracy 0.7324\n",
      "SVC with TfIdf / Raw w/ bigrams : Accuracy 0.7308\n",
      "SVC with TfIdf / Lemmatized w/ bigrams : Accuracy 0.7291\n",
      "SVC with TfIdf / Stemmed w/ bigrams : Accuracy 0.7274\n",
      "SVC with TfIdf / No lemma no stem w/ bigrams : Accuracy 0.7274\n"
     ]
    }
   ],
   "source": [
    "# Train a support vector classifier\n",
    "svc = SVC()\n",
    "svc_results = build_predict_dict(svc, tfidf_vectors)"
   ]
  },
  {
   "cell_type": "code",
   "execution_count": 337,
   "metadata": {},
   "outputs": [
    {
     "name": "stdout",
     "output_type": "stream",
     "text": [
      "Model : MultinomialNB\n",
      "================================================================================\n",
      "Vectorizer/Data form                   Accuracy  Precision Recall    F1 Score \n",
      "================================================================================\n",
      "TfIdf / Raw                            0.7174    0.7300    0.7249    0.7090   \n",
      "TfIdf / Lemmatized                     0.7040    0.7222    0.7103    0.6960   \n",
      "TfIdf / Stemmed                        0.7090    0.7234    0.7150    0.7033   \n",
      "TfIdf / No lemma no stem               0.7057    0.7185    0.7126    0.6976   \n",
      "TfIdf / Raw w/ bigrams                 0.7057    0.7269    0.7149    0.6970   \n",
      "TfIdf / Lemmatized w/ bigrams          0.6957    0.7186    0.7030    0.6876   \n",
      "TfIdf / Stemmed w/ bigrams             0.7074    0.7281    0.7152    0.7014   \n",
      "TfIdf / No lemma no stem w/ bigrams    0.7040    0.7225    0.7115    0.6957   \n"
     ]
    }
   ],
   "source": [
    "# Evaluate multinomialNB\n",
    "multinomial_nb_evaluation_results = evaluate_models(multinomial_nb_results, y_test)"
   ]
  },
  {
   "cell_type": "code",
   "execution_count": 338,
   "metadata": {},
   "outputs": [
    {
     "name": "stdout",
     "output_type": "stream",
     "text": [
      "Model : LogisticRegression\n",
      "================================================================================\n",
      "Vectorizer/Data form                   Accuracy  Precision Recall    F1 Score \n",
      "================================================================================\n",
      "TfIdf / Raw                            0.7425    0.7441    0.7432    0.7424   \n",
      "TfIdf / Lemmatized                     0.7358    0.7353    0.7365    0.7343   \n",
      "TfIdf / Stemmed                        0.7341    0.7367    0.7359    0.7344   \n",
      "TfIdf / No lemma no stem               0.7341    0.7329    0.7350    0.7327   \n",
      "TfIdf / Raw w/ bigrams                 0.7475    0.7472    0.7501    0.7454   \n",
      "TfIdf / Lemmatized w/ bigrams          0.7425    0.7409    0.7443    0.7403   \n",
      "TfIdf / Stemmed w/ bigrams             0.7408    0.7407    0.7419    0.7392   \n",
      "TfIdf / No lemma no stem w/ bigrams    0.7375    0.7356    0.7385    0.7339   \n"
     ]
    }
   ],
   "source": [
    "# Evaluate logistic regression\n",
    "logistic_regression_evaluation_results = evaluate_models(logistic_regression_results, y_test)"
   ]
  },
  {
   "cell_type": "code",
   "execution_count": 339,
   "metadata": {},
   "outputs": [
    {
     "name": "stdout",
     "output_type": "stream",
     "text": [
      "Model : RandomForestClassifier\n",
      "================================================================================\n",
      "Vectorizer/Data form                   Accuracy  Precision Recall    F1 Score \n",
      "================================================================================\n",
      "TfIdf / Raw                            0.6973    0.7023    0.6997    0.6950   \n",
      "TfIdf / Lemmatized                     0.6672    0.6664    0.6700    0.6615   \n",
      "TfIdf / Stemmed                        0.6856    0.6885    0.6870    0.6825   \n",
      "TfIdf / No lemma no stem               0.6873    0.6912    0.6877    0.6823   \n",
      "TfIdf / Raw w/ bigrams                 0.6973    0.7077    0.6989    0.6953   \n",
      "TfIdf / Lemmatized w/ bigrams          0.6555    0.6575    0.6559    0.6481   \n",
      "TfIdf / Stemmed w/ bigrams             0.6923    0.6954    0.6939    0.6856   \n",
      "TfIdf / No lemma no stem w/ bigrams    0.6739    0.6884    0.6770    0.6673   \n"
     ]
    }
   ],
   "source": [
    "# Evaluate random forest\n",
    "random_forest_evaluation_results = evaluate_models(random_forest_results, y_test)"
   ]
  },
  {
   "cell_type": "code",
   "execution_count": 340,
   "metadata": {},
   "outputs": [
    {
     "name": "stdout",
     "output_type": "stream",
     "text": [
      "Model : SVC\n",
      "================================================================================\n",
      "Vectorizer/Data form                   Accuracy  Precision Recall    F1 Score \n",
      "================================================================================\n",
      "TfIdf / Raw                            0.7324    0.7446    0.7320    0.7345   \n",
      "TfIdf / Lemmatized                     0.7258    0.7344    0.7249    0.7262   \n",
      "TfIdf / Stemmed                        0.7258    0.7385    0.7243    0.7273   \n",
      "TfIdf / No lemma no stem               0.7324    0.7433    0.7319    0.7338   \n",
      "TfIdf / Raw w/ bigrams                 0.7308    0.7373    0.7333    0.7330   \n",
      "TfIdf / Lemmatized w/ bigrams          0.7291    0.7340    0.7291    0.7290   \n",
      "TfIdf / Stemmed w/ bigrams             0.7274    0.7332    0.7269    0.7276   \n",
      "TfIdf / No lemma no stem w/ bigrams    0.7274    0.7308    0.7284    0.7277   \n"
     ]
    }
   ],
   "source": [
    "# Evaluate support vector classifier\n",
    "svc_evaluation_results = evaluate_models(svc_results, y_test)"
   ]
  },
  {
   "cell_type": "code",
   "execution_count": 362,
   "metadata": {},
   "outputs": [],
   "source": [
    "def plot_confusion_matrix(model_name, y_test, y_pred, vectorizer_name):\n",
    "    clf_report = classification_report(y_test, y_pred, output_dict=True)\n",
    "    \n",
    "    # Print the classification report\n",
    "    print(f\"Classification Report for {model_name} with {vectorizer_name}\")\n",
    "    print(\"=\"*80)\n",
    "    print(classification_report(y_test, y_pred))\n",
    "    \n",
    "    # Print the confusion matrix\n",
    "    conf_matrix = confusion_matrix(y_test, y_pred, normalize='true')\n",
    "    # Get the labels and remove the 3 last labels but keep the order\n",
    "    labels = list(clf_report.keys())[:-3]\n",
    "\n",
    "    plt.figure(figsize=(10, 10))\n",
    "    sns.heatmap(conf_matrix, annot=True, cmap='Blues', xticklabels=labels, yticklabels=labels)\n",
    "    plt.xlabel('Predicted')\n",
    "    plt.yticks(rotation=0)\n",
    "    plt.ylabel('Actual')\n",
    "    plt.title(f\"{model_name}'s {vectorizer_name} Confusion Matrix\")\n",
    "    plt.show()"
   ]
  },
  {
   "cell_type": "code",
   "execution_count": 363,
   "metadata": {},
   "outputs": [],
   "source": [
    "# From all the evaluation results, extract the best model\n",
    "def get_best_model(evaluation_and_results):\n",
    "    best_model = None\n",
    "    best_f1_score = 0\n",
    "    for model_name, results in evaluation_and_results.items():\n",
    "        evaluation_results, model_results = results\n",
    "        \n",
    "        for (model, vectorizer_name), evaluation_metrics in evaluation_results.items():\n",
    "            if evaluation_metrics['f1_score'] > best_f1_score:\n",
    "                best_f1_score = evaluation_metrics['f1_score']\n",
    "                key = (model, vectorizer_name)\n",
    "                best_model = [model_name, key, evaluation_results[key], model_results[key]]\n",
    "    return best_model"
   ]
  },
  {
   "cell_type": "code",
   "execution_count": 364,
   "metadata": {},
   "outputs": [
    {
     "name": "stdout",
     "output_type": "stream",
     "text": [
      "\n",
      "Classification Report for Logistic Regression with TfIdf / Raw w/ bigrams\n",
      "================================================================================\n",
      "              precision    recall  f1-score   support\n",
      "\n",
      "      Action       0.72      0.59      0.65        99\n",
      "   Adventure       0.68      0.77      0.72        86\n",
      "         RPG       0.68      0.73      0.70        70\n",
      "      Racing       0.86      0.88      0.87        84\n",
      "  Simulation       0.74      0.64      0.69        84\n",
      "      Sports       0.75      0.91      0.82        88\n",
      "    Strategy       0.79      0.74      0.76        87\n",
      "\n",
      "    accuracy                           0.75       598\n",
      "   macro avg       0.75      0.75      0.75       598\n",
      "weighted avg       0.75      0.75      0.74       598\n",
      "\n"
     ]
    },
    {
     "data": {
      "image/png": "[encoded data removed]",
      "text/plain": [
       "<Figure size 1000x1000 with 2 Axes>"
      ]
     },
     "metadata": {},
     "output_type": "display_data"
    }
   ],
   "source": [
    "# Fusion of all the evaluation results\n",
    "all_evaluation_results = {\n",
    "    'MultinomialNB': (multinomial_nb_evaluation_results, multinomial_nb_results),\n",
    "    'Logistic Regression': (logistic_regression_evaluation_results, logistic_regression_results),\n",
    "    'Random Forest': (random_forest_evaluation_results, random_forest_results),\n",
    "    'Support Vector Classifier': (svc_evaluation_results, svc_results)\n",
    "}\n",
    "\n",
    "# Get the best model\n",
    "best_results = get_best_model(all_evaluation_results)\n",
    "\n",
    "print()\n",
    "\n",
    "# Plot the best model's confusion matrix\n",
    "plot_confusion_matrix(best_results[0], y_test, best_results[3][2], best_results[1][1])"
   ]
  }
 ],
 "metadata": {
  "kernelspec": {
   "display_name": "Python 3",
   "language": "python",
   "name": "python3"
  },
  "language_info": {
   "codemirror_mode": {
    "name": "ipython",
    "version": 3
   },
   "file_extension": ".py",
   "mimetype": "text/x-python",
   "name": "python",
   "nbconvert_exporter": "python",
   "pygments_lexer": "ipython3",
   "version": "3.11.0"
  }
 },
 "nbformat": 4,
 "nbformat_minor": 2
}
